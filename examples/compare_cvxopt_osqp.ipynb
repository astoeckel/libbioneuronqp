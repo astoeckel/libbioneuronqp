{
 "cells": [
  {
   "cell_type": "code",
   "execution_count": 1,
   "metadata": {},
   "outputs": [],
   "source": [
    "import numpy as np\n",
    "import matplotlib.pyplot as plt\n",
    "import time\n",
    "from nengo_bio.internal.qp_solver import solve as solve_ref\n",
    "\n",
    "import os, sys\n",
    "sys.path.append(os.path.join(os.getcwd(), '..'))\n",
    "from bioneuronqp import solve"
   ]
  },
  {
   "cell_type": "code",
   "execution_count": 2,
   "metadata": {},
   "outputs": [],
   "source": [
    "class LIF:\n",
    "    slope = 2.0 / 3.0\n",
    "\n",
    "    @staticmethod\n",
    "    def inverse(a):\n",
    "        valid = a > 0\n",
    "        return 1.0 / (1.0 - np.exp(LIF.slope - (1.0 / (valid * a + 1e-6))))\n",
    "\n",
    "    @staticmethod\n",
    "    def activity(x):\n",
    "        valid = x > (1.0 + 1e-6)\n",
    "        return valid / (LIF.slope - np.log(1.0 - valid * (1.0 / x)))\n",
    "\n",
    "class Ensemble:\n",
    "    def __init__(self, n_neurons, n_dimensions, neuron_type=LIF):\n",
    "        self.neuron_type = neuron_type\n",
    "\n",
    "        # Randomly select the intercepts and the maximum rates\n",
    "        self.intercepts = np.random.uniform(-0.95, 0.95, n_neurons)\n",
    "        self.max_rates = np.random.uniform(0.5, 1.0, n_neurons)\n",
    "\n",
    "        # Randomly select the encoders\n",
    "        self.encoders = np.random.normal(0, 1, (n_neurons, n_dimensions))\n",
    "        self.encoders /= np.linalg.norm(self.encoders, axis=1)[:, None]\n",
    "\n",
    "        # Compute the current causing the maximum rate/the intercept\n",
    "        J_0 = self.neuron_type.inverse(0)\n",
    "        J_max_rates = self.neuron_type.inverse(self.max_rates)\n",
    "\n",
    "        # Compute the gain and bias\n",
    "        self.gain = (J_0 - J_max_rates) / (self.intercepts - 1.0)\n",
    "        self.bias = J_max_rates - self.gain\n",
    "\n",
    "    def __call__(self, x):\n",
    "        return self.neuron_type.activity(self.J(x))\n",
    "\n",
    "    def J(self, x):\n",
    "        return self.gain[:, None] * self.encoders @ x + self.bias[:, None]"
   ]
  },
  {
   "cell_type": "code",
   "execution_count": 3,
   "metadata": {},
   "outputs": [],
   "source": [
    "def compute_error(J_tar, J_dec, i_th):\n",
    "    if i_th is None:\n",
    "        e_invalid = 0\n",
    "        e_valid = np.sum(np.square(J_tar - J_dec))\n",
    "    else:\n",
    "        valid = J_tar > i_th\n",
    "        invalid_violated = np.logical_and(J_tar < i_th, J_dec > i_th)\n",
    "        e_invalid = np.sum(np.square(i_th - J_dec[invalid_violated]))\n",
    "        e_valid = np.sum(np.square(J_tar[valid] - J_dec[valid]))\n",
    "\n",
    "    return np.sqrt((e_valid + e_invalid) / J_tar.size)\n",
    "\n",
    "def E(Apre, Jpost, WE, WI, iTh):\n",
    "    return compute_error(Jpost.T, Apre.T @ WE - Apre.T @ WI, iTh)"
   ]
  },
  {
   "cell_type": "code",
   "execution_count": 7,
   "metadata": {},
   "outputs": [
    {
     "name": "stderr",
     "output_type": "stream",
     "text": [
      "Solved 102/102 neuron weights"
     ]
    }
   ],
   "source": [
    "tols = np.logspace(-4, 0, 10)\n",
    "trials = np.arange(10, dtype=int)\n",
    "\n",
    "errs = np.zeros((len(tols), len(trials), 2))\n",
    "times = np.zeros((len(tols), len(trials), 2))\n",
    "\n",
    "for i, tol in enumerate(tols):\n",
    "    for j, trial in enumerate(trials):\n",
    "        np.random.seed(34812 + trial)\n",
    "\n",
    "        ens1 = Ensemble(101, 1)\n",
    "        ens2 = Ensemble(102, 1)\n",
    "\n",
    "        xs = np.linspace(-1, 1, 100).reshape(1, -1)\n",
    "        Apre = ens1(xs)\n",
    "        Jpost = ens2.J(xs)\n",
    "\n",
    "        ws = np.array([0, 1, -1, 1, 0, 0], dtype=np.float64)\n",
    "\n",
    "        kwargs = {\n",
    "            \"Apre\": Apre.T,\n",
    "            \"Jpost\": Jpost.T,\n",
    "            \"ws\": ws,\n",
    "            \"iTh\": None,\n",
    "            \"tol\": tol,\n",
    "            \"reg\": 1e-2,\n",
    "            \"renormalise\": False,\n",
    "        }\n",
    "\n",
    "        t1 = time.perf_counter()\n",
    "        WE, WI = solve(**kwargs)\n",
    "        t2 = time.perf_counter()\n",
    "\n",
    "        t3 = time.perf_counter()\n",
    "        WE_ref, WI_ref = solve_ref(**kwargs)\n",
    "        t4 = time.perf_counter()\n",
    "\n",
    "        errs[i, j, 0] = E(Apre, Jpost, WE, WI, kwargs['iTh'])\n",
    "        errs[i, j, 1] = E(Apre, Jpost, WE_ref, WI_ref, kwargs['iTh'])\n",
    "\n",
    "        times[i, j, 0] = t2 - t1\n",
    "        times[i, j, 1] = t4 - t3"
   ]
  },
  {
   "cell_type": "code",
   "execution_count": 10,
   "metadata": {},
   "outputs": [
    {
     "data": {
      "text/plain": [
       "[<matplotlib.lines.Line2D at 0x7f1531a86890>]"
      ]
     },
     "execution_count": 10,
     "metadata": {},
     "output_type": "execute_result"
    },
    {
     "data": {
      "image/png": "[encoded data removed]",
      "text/plain": [
       "<Figure size 432x288 with 1 Axes>"
      ]
     },
     "metadata": {
      "needs_background": "light"
     },
     "output_type": "display_data"
    },
    {
     "data": {
      "image/png": "[encoded data removed]",
      "text/plain": [
       "<Figure size 432x288 with 1 Axes>"
      ]
     },
     "metadata": {
      "needs_background": "light"
     },
     "output_type": "display_data"
    }
   ],
   "source": [
    "fig, ax = plt.subplots()\n",
    "ax.loglog(tols, errs[:, :, 0].mean(axis=1))\n",
    "ax.loglog(tols, errs[:, :, 1].mean(axis=1))\n",
    "\n",
    "fig, ax = plt.subplots()\n",
    "ax.loglog(tols, times[:, :, 0].mean(axis=1))\n",
    "ax.loglog(tols, times[:, :, 1].mean(axis=1))"
   ]
  },
  {
   "cell_type": "code",
   "execution_count": null,
   "metadata": {},
   "outputs": [],
   "source": []
  }
 ],
 "metadata": {
  "kernelspec": {
   "display_name": "Python 3",
   "language": "python",
   "name": "python3"
  },
  "language_info": {
   "codemirror_mode": {
    "name": "ipython",
    "version": 3
   },
   "file_extension": ".py",
   "mimetype": "text/x-python",
   "name": "python",
   "nbconvert_exporter": "python",
   "pygments_lexer": "ipython3",
   "version": "3.7.5"
  }
 },
 "nbformat": 4,
 "nbformat_minor": 4
}
